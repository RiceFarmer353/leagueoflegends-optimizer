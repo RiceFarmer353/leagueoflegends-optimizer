{
 "cells": [
  {
   "cell_type": "markdown",
   "metadata": {},
   "source": [
    "# Test ADJ Connection to ESPORTS JSON Repository"
   ]
  },
  {
   "cell_type": "code",
   "execution_count": null,
   "metadata": {
    "ExecuteTime": {
     "end_time": "2021-11-30T23:41:30.655863Z",
     "start_time": "2021-11-30T23:41:30.040833Z"
    }
   },
   "outputs": [],
   "source": [
    "import numpy as np # linear algebra\n",
    "import pandas as pd # data processing, CSV file I/O (e.g. pd.read_csv)\n",
    "import json\n",
    "import cx_Oracle\n",
    "import os\n",
    "import pandas as pd\n",
    "\n",
    "\n",
    "os.environ['TNS_ADMIN'] = '/home/opc/adj_esportsdb'"
   ]
  },
  {
   "cell_type": "code",
   "execution_count": null,
   "metadata": {
    "ExecuteTime": {
     "end_time": "2021-11-30T23:41:48.377250Z",
     "start_time": "2021-11-30T23:41:30.657153Z"
    }
   },
   "outputs": [],
   "source": [
    "\n",
    "!pip install dataprep\n",
    "!pip install dask\n",
    "!pip install pandas_profiling\n",
    "## install packages\n",
    "!pip install -q scikit-learn\n",
    "!pip install -U setuptools wheel\n",
    "!pip install -U \"mxnet<2.0.0\"\n",
    "!pip install autogluon"
   ]
  },
  {
   "cell_type": "code",
   "execution_count": null,
   "metadata": {
    "ExecuteTime": {
     "end_time": "2021-11-30T23:41:48.849032Z",
     "start_time": "2021-11-30T23:41:48.806105Z"
    }
   },
   "outputs": [],
   "source": [
    "import cx_Oracle\n",
    "import yaml\n",
    "import os\n",
    "from pathlib import Path\n",
    "home = str(Path.home())\n",
    "\n",
    "def process_yaml():\n",
    "\twith open(\"../config.yaml\") as file:\n",
    "\t\treturn yaml.safe_load(file)\n",
    "\n",
    "\n",
    "class OracleJSONDatabaseConnection:\n",
    "    def __init__(self, data=process_yaml()):\n",
    "        # wallet location (default is HOME/wallets/wallet_X)\n",
    "        os.environ['TNS_ADMIN'] = '{}/{}'.format(home, process_yaml()['WALLET_DIR'])\n",
    "        print(os.environ['TNS_ADMIN'])\n",
    "        self.pool = cx_Oracle.SessionPool(data['db']['username'], data['db']['password'], data['db']['dsn'],\n",
    "            min=1, max=4, increment=1, threaded=True,\n",
    "            getmode=cx_Oracle.SPOOL_ATTRVAL_WAIT\n",
    "        )\n",
    "        print('Connection successful.')\n",
    "\n",
    "\n",
    "\n",
    "    def close_pool(self):\n",
    "        self.pool.close()\n",
    "        print('Connection pool closed.')\n",
    "\n",
    "\n",
    "\n",
    "    def insert(self, collection_name, json_object_to_insert):\n",
    "        connection = self.pool.acquire()\n",
    "        connection.autocommit = True\n",
    "        soda = connection.getSodaDatabase()\n",
    "        x_collection = soda.createCollection(collection_name)\n",
    "\n",
    "        try:\n",
    "            x_collection.insertOne(json_object_to_insert)\n",
    "            print('[DBG] INSERT {} OK'.format(json_object_to_insert))\n",
    "        except cx_Oracle.IntegrityError:\n",
    "            print('[DBG] INSERT {} ERR'.format(json_object_to_insert))\n",
    "            return 0\n",
    "        self.pool.release(connection)\n",
    "        return 1\n",
    "\n",
    "\n",
    "\n",
    "    def delete(self, collection_name, on_column, on_value):\n",
    "        connection = self.pool.acquire()\n",
    "        soda = connection.getSodaDatabase()\n",
    "        x_collection = soda.createCollection(collection_name)\n",
    "        qbe = {on_column: on_value}\n",
    "        x_collection.find().filter(qbe).remove()\n",
    "        self.pool.release(connection)\n",
    "\n",
    "\n",
    "\n",
    "    def get_connection(self):\n",
    "        return self.pool.acquire() \n",
    "\n",
    "\n",
    "\n",
    "    def close_connection(self, conn_object):\n",
    "        self.pool.release(conn_object)\n",
    "\n",
    "\n",
    "\n",
    "    def get_collection_names(self):\n",
    "        connection = self.pool.acquire()\n",
    "        returning_object = connection.getSodaDatabase().getCollectionNames(startName=None, limit=0)\n",
    "        self.pool.release(connection)\n",
    "        return returning_object\n",
    "\n",
    "\n",
    "\n",
    "    def open_collection(self, collection_name):\n",
    "        connection = self.pool.acquire()\n",
    "        returning_object = self.pool.acquire().getSodaDatabase().openCollection(collection_name)\n",
    "        self.pool.release(connection)\n",
    "        return returning_object\n",
    "\n",
    "\n",
    "\n",
    "def test_class():\n",
    "    object = OracleJSONDatabaseConnection()\n",
    "    print(object.pool)\n",
    "    object.close_pool()"
   ]
  },
  {
   "cell_type": "code",
   "execution_count": null,
   "metadata": {
    "ExecuteTime": {
     "end_time": "2021-11-30T23:41:48.853233Z",
     "start_time": "2021-11-30T23:41:48.850323Z"
    }
   },
   "outputs": [],
   "source": [
    "print(os.environ['TNS_ADMIN'])"
   ]
  },
  {
   "cell_type": "code",
   "execution_count": null,
   "metadata": {
    "ExecuteTime": {
     "end_time": "2021-11-30T23:41:59.105744Z",
     "start_time": "2021-11-30T23:41:48.854642Z"
    }
   },
   "outputs": [],
   "source": [
    "db = OracleJSONDatabaseConnection()\n",
    "print(db.get_collection_names())"
   ]
  },
  {
   "cell_type": "code",
   "execution_count": null,
   "metadata": {
    "ExecuteTime": {
     "end_time": "2021-11-30T23:42:36.065829Z",
     "start_time": "2021-11-30T23:41:59.107138Z"
    }
   },
   "outputs": [],
   "source": [
    "data = db.open_collection('predictor_liveclient')\n",
    "all_data = list()\n",
    "for doc in data.find().getCursor():\n",
    "    content = doc.getContent()\n",
    "    all_data.append(content)\n",
    "\n",
    "print('Data length: {}'.format(len(all_data)))"
   ]
  },
  {
   "cell_type": "code",
   "execution_count": null,
   "metadata": {
    "ExecuteTime": {
     "end_time": "2021-11-30T23:43:01.059111Z",
     "start_time": "2021-11-30T23:42:36.067181Z"
    }
   },
   "outputs": [],
   "source": [
    "df = pd.read_json(json.dumps(all_data), orient='records')\n",
    "\n",
    "df.head(5)\n"
   ]
  },
  {
   "cell_type": "code",
   "execution_count": null,
   "metadata": {
    "ExecuteTime": {
     "end_time": "2021-11-30T23:43:01.648737Z",
     "start_time": "2021-11-30T23:43:01.061159Z"
    }
   },
   "outputs": [],
   "source": [
    "df.describe()"
   ]
  },
  {
   "cell_type": "code",
   "execution_count": null,
   "metadata": {
    "ExecuteTime": {
     "end_time": "2021-11-30T23:43:05.457623Z",
     "start_time": "2021-11-30T23:43:01.650232Z"
    }
   },
   "outputs": [],
   "source": [
    "from pandas_profiling import ProfileReport"
   ]
  },
  {
   "cell_type": "code",
   "execution_count": null,
   "metadata": {
    "ExecuteTime": {
     "end_time": "2021-11-30T23:52:56.422588Z",
     "start_time": "2021-11-30T23:43:05.459842Z"
    }
   },
   "outputs": [],
   "source": [
    "report = ProfileReport(df)\n",
    "#report #uncomment to display all."
   ]
  },
  {
   "cell_type": "code",
   "execution_count": null,
   "metadata": {
    "ExecuteTime": {
     "end_time": "2021-11-30T23:52:57.791041Z",
     "start_time": "2021-11-30T23:52:56.424178Z"
    }
   },
   "outputs": [],
   "source": [
    "from autogluon.tabular import TabularPredictor, TabularDataset"
   ]
  },
  {
   "cell_type": "code",
   "execution_count": null,
   "metadata": {
    "ExecuteTime": {
     "end_time": "2021-11-30T23:52:58.081793Z",
     "start_time": "2021-11-30T23:52:57.792725Z"
    }
   },
   "outputs": [],
   "source": [
    "df = TabularDataset(df)\n",
    "\n",
    "# drop columns we don't want\n",
    "df = df.drop(columns=['identifier', 'participantId'])\n",
    "\n",
    "train = df.sample(frac=0.8,random_state=200) #random state is a seed value\n",
    "test = df.drop(train.index)\n",
    "\n",
    "train.head(5)"
   ]
  },
  {
   "cell_type": "code",
   "execution_count": null,
   "metadata": {
    "ExecuteTime": {
     "end_time": "2021-11-30T23:52:58.086242Z",
     "start_time": "2021-11-30T23:52:58.083419Z"
    }
   },
   "outputs": [],
   "source": [
    "label = 'winner'"
   ]
  },
  {
   "cell_type": "code",
   "execution_count": null,
   "metadata": {
    "ExecuteTime": {
     "end_time": "2021-12-01T00:59:34.122776Z",
     "start_time": "2021-11-30T23:52:58.087992Z"
    }
   },
   "outputs": [],
   "source": [
    "save_path = './autogluon_regressor_trained_models'  # specifies folder to store trained models\n",
    "predictor = TabularPredictor(label=label, path=save_path).fit(train)"
   ]
  },
  {
   "cell_type": "code",
   "execution_count": null,
   "metadata": {
    "ExecuteTime": {
     "end_time": "2021-12-01T00:59:34.147402Z",
     "start_time": "2021-12-01T00:59:34.124227Z"
    }
   },
   "outputs": [],
   "source": [
    "y_test = test[label]  # values to predict\n",
    "test_data_nolabel = test.drop(columns=[label])  # delete label column to prove we're not cheating, also drop identifier column\n",
    "test_data_nolabel.head()"
   ]
  },
  {
   "cell_type": "code",
   "execution_count": null,
   "metadata": {
    "ExecuteTime": {
     "end_time": "2021-12-01T01:00:28.553680Z",
     "start_time": "2021-12-01T00:59:34.149095Z"
    }
   },
   "outputs": [],
   "source": [
    "predictor = TabularPredictor.load(save_path)\n",
    "\n",
    "y_pred = predictor.predict(test_data_nolabel)\n",
    "print(\"Predictions:  \\n\", y_pred)\n",
    "perf = predictor.evaluate_predictions(y_true=y_test, y_pred=y_pred, auxiliary_metrics=True)\n"
   ]
  },
  {
   "cell_type": "code",
   "execution_count": null,
   "metadata": {
    "ExecuteTime": {
     "end_time": "2021-12-01T02:11:20.949578Z",
     "start_time": "2021-12-01T01:00:28.555216Z"
    }
   },
   "outputs": [],
   "source": [
    "predictor.leaderboard(test, silent=False)"
   ]
  },
  {
   "cell_type": "code",
   "execution_count": null,
   "metadata": {
    "ExecuteTime": {
     "end_time": "2021-12-01T02:12:33.238706Z",
     "start_time": "2021-12-01T02:11:20.951092Z"
    }
   },
   "outputs": [],
   "source": [
    "predictor.feature_importance(test)"
   ]
  }
 ],
 "metadata": {
  "kernelspec": {
   "display_name": "Python 3.9.12 ('base')",
   "language": "python",
   "name": "python3"
  },
  "language_info": {
   "codemirror_mode": {
    "name": "ipython",
    "version": 3
   },
   "file_extension": ".py",
   "mimetype": "text/x-python",
   "name": "python",
   "nbconvert_exporter": "python",
   "pygments_lexer": "ipython3",
   "version": "3.9.12"
  },
  "vscode": {
   "interpreter": {
    "hash": "425061bd4f6c1b850df5ad58d95c5de748ed72fd3c46e84bc23f876a344a0d26"
   }
  }
 },
 "nbformat": 4,
 "nbformat_minor": 4
}
